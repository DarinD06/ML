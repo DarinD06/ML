{
 "cells": [
  {
   "cell_type": "code",
   "execution_count": 1,
   "metadata": {},
   "outputs": [
    {
     "name": "stderr",
     "output_type": "stream",
     "text": [
      "2023-05-03 11:39:52.823827: I tensorflow/core/util/port.cc:110] oneDNN custom operations are on. You may see slightly different numerical results due to floating-point round-off errors from different computation orders. To turn them off, set the environment variable `TF_ENABLE_ONEDNN_OPTS=0`.\n",
      "2023-05-03 11:39:52.827678: I tensorflow/tsl/cuda/cudart_stub.cc:28] Could not find cuda drivers on your machine, GPU will not be used.\n",
      "2023-05-03 11:39:53.003261: I tensorflow/tsl/cuda/cudart_stub.cc:28] Could not find cuda drivers on your machine, GPU will not be used.\n",
      "2023-05-03 11:39:53.006291: I tensorflow/core/platform/cpu_feature_guard.cc:182] This TensorFlow binary is optimized to use available CPU instructions in performance-critical operations.\n",
      "To enable the following instructions: AVX2 AVX512F AVX512_VNNI FMA, in other operations, rebuild TensorFlow with the appropriate compiler flags.\n",
      "2023-05-03 11:39:53.876093: W tensorflow/compiler/tf2tensorrt/utils/py_utils.cc:38] TF-TRT Warning: Could not find TensorRT\n"
     ]
    }
   ],
   "source": [
    "import pandas as pd\n",
    "import numpy as np\n",
    "import os\n",
    "import matplotlib.pyplot as plt\n",
    "\n",
    "import tensorflow as tf\n",
    "from tensorflow import keras\n",
    "import tensorflow.keras\n",
    "from tensorflow.keras.layers import Dense,Dropout\n",
    "from tensorflow.keras.applications import MobileNet\n",
    "from tensorflow.keras.models import Model\n",
    "from tensorflow.keras.optimizers import Adam"
   ]
  },
  {
   "cell_type": "code",
   "execution_count": 2,
   "metadata": {},
   "outputs": [
    {
     "name": "stderr",
     "output_type": "stream",
     "text": [
      "2023-05-03 11:39:59.937159: I tensorflow/compiler/xla/stream_executor/cuda/cuda_gpu_executor.cc:982] could not open file to read NUMA node: /sys/bus/pci/devices/0000:01:00.0/numa_node\n",
      "Your kernel may have been built without NUMA support.\n",
      "2023-05-03 11:39:59.937539: W tensorflow/core/common_runtime/gpu/gpu_device.cc:1956] Cannot dlopen some GPU libraries. Please make sure the missing libraries mentioned above are installed properly if you would like to use GPU. Follow the guide at https://www.tensorflow.org/install/gpu for how to download and setup the required libraries for your platform.\n",
      "Skipping registering GPU devices...\n"
     ]
    }
   ],
   "source": [
    "base_model=MobileNet(weights='imagenet',\n",
    "                     include_top=False, \n",
    "                     input_shape=(128,128,3))  # shape of RGB images "
   ]
  },
  {
   "cell_type": "code",
   "execution_count": 3,
   "metadata": {},
   "outputs": [],
   "source": [
    "from tensorflow.keras import models\n",
    "from tensorflow.keras import layers\n",
    "from tensorflow.keras import regularizers\n",
    "\n",
    "model = models.Sequential()\n",
    "model.add(base_model)\n",
    "model.add(layers.Flatten())\n",
    "model.add(layers.Dense(1024, activation='relu', kernel_regularizer=regularizers.l1()))\n",
    "model.add(Dropout(0.5))\n",
    "model.add(layers.Dense(1024, activation='relu'))\n",
    "model.add(layers.Dense(1024, activation='relu', kernel_regularizer=regularizers.l2()))\n",
    "model.add(layers.Dense(2,activation='softmax'))\n"
   ]
  },
  {
   "cell_type": "code",
   "execution_count": 4,
   "metadata": {},
   "outputs": [
    {
     "name": "stdout",
     "output_type": "stream",
     "text": [
      "Found 181 images belonging to 2 classes.\n"
     ]
    }
   ],
   "source": [
    "from tensorflow.keras.preprocessing import image\n",
    "from tensorflow.keras.applications.mobilenet import preprocess_input\n",
    "from tensorflow.keras.preprocessing.image import ImageDataGenerator\n",
    "\n",
    "train_path = \"/home/darind06/ML/ML/cows/dataset_cows/train\"\n",
    "train_datagen=ImageDataGenerator(preprocessing_function=preprocess_input,\n",
    "                                 shear_range = 0.15,\n",
    "                                 zoom_range =.15,\n",
    "                                 rotation_range =5,\n",
    "                                 fill_mode='nearest')\n",
    "\n",
    "train_generator=train_datagen.flow_from_directory(train_path, \n",
    "                                                 target_size=(128,128),\n",
    "                                                 color_mode='rgb',\n",
    "                                                 batch_size= 16,\n",
    "                                                 seed=1,\n",
    "                                                 class_mode='categorical',\n",
    "                                                 shuffle=True)   # set to False to show images in the same order for display\n",
    "\n"
   ]
  },
  {
   "cell_type": "code",
   "execution_count": 5,
   "metadata": {},
   "outputs": [
    {
     "name": "stdout",
     "output_type": "stream",
     "text": [
      "Epoch 1/10\n"
     ]
    },
    {
     "name": "stderr",
     "output_type": "stream",
     "text": [
      "2023-05-03 11:40:08.735228: I tensorflow/core/common_runtime/executor.cc:1197] [/device:CPU:0] (DEBUG INFO) Executor start aborting (this does not indicate an error and you can ignore this message): INVALID_ARGUMENT: You must feed a value for placeholder tensor 'Placeholder/_0' with dtype int32\n",
      "\t [[{{node Placeholder/_0}}]]\n"
     ]
    },
    {
     "name": "stdout",
     "output_type": "stream",
     "text": [
      "12/12 [==============================] - 9s 349ms/step - loss: 977.4344 - accuracy: 0.4917\n",
      "Epoch 2/10\n",
      "12/12 [==============================] - 4s 358ms/step - loss: 261.6954 - accuracy: 0.8343\n",
      "Epoch 3/10\n",
      "12/12 [==============================] - 4s 353ms/step - loss: 128.9653 - accuracy: 0.9227\n",
      "Epoch 4/10\n",
      "12/12 [==============================] - 4s 359ms/step - loss: 66.5324 - accuracy: 0.9448\n",
      "Epoch 5/10\n",
      "12/12 [==============================] - 4s 340ms/step - loss: 41.8142 - accuracy: 0.9227\n",
      "Epoch 6/10\n",
      "12/12 [==============================] - 4s 337ms/step - loss: 32.8904 - accuracy: 0.9337\n",
      "Epoch 7/10\n",
      "12/12 [==============================] - 4s 360ms/step - loss: 33.6758 - accuracy: 0.9448\n",
      "Epoch 8/10\n",
      "12/12 [==============================] - 5s 376ms/step - loss: 30.4837 - accuracy: 0.8785\n",
      "Epoch 9/10\n",
      "12/12 [==============================] - 5s 370ms/step - loss: 26.4983 - accuracy: 0.9558\n",
      "Epoch 10/10\n",
      "12/12 [==============================] - 5s 366ms/step - loss: 27.5324 - accuracy: 0.9392\n"
     ]
    }
   ],
   "source": [
    "model.compile(optimizer='Adam',loss='categorical_crossentropy',metrics=['accuracy'])\n",
    "step_size_train=train_generator.n//train_generator.batch_size + 1\n",
    "history = model.fit(train_generator,\n",
    "          batch_size = 32,\n",
    "          epochs=10)"
   ]
  },
  {
   "cell_type": "code",
   "execution_count": null,
   "metadata": {},
   "outputs": [],
   "source": []
  }
 ],
 "metadata": {
  "kernelspec": {
   "display_name": "tf",
   "language": "python",
   "name": "python3"
  },
  "language_info": {
   "codemirror_mode": {
    "name": "ipython",
    "version": 3
   },
   "file_extension": ".py",
   "mimetype": "text/x-python",
   "name": "python",
   "nbconvert_exporter": "python",
   "pygments_lexer": "ipython3",
   "version": "3.9.16"
  },
  "orig_nbformat": 4
 },
 "nbformat": 4,
 "nbformat_minor": 2
}
